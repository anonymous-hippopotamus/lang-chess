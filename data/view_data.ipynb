{
 "cells": [
  {
   "cell_type": "markdown",
   "id": "e62f79c8",
   "metadata": {},
   "source": [
    "# Notebook to view data samples"
   ]
  },
  {
   "cell_type": "code",
   "execution_count": 1,
   "id": "270746ff",
   "metadata": {},
   "outputs": [],
   "source": [
    "import pandas as pd\n",
    "from raw.utils.board import visual_to_fen, extract_visual\n",
    "from raw.utils.parsing import parse_fen"
   ]
  },
  {
   "cell_type": "code",
   "execution_count": 11,
   "id": "8ea67c8f",
   "metadata": {},
   "outputs": [
    {
     "name": "stdout",
     "output_type": "stream",
     "text": [
      "1000\n"
     ]
    }
   ],
   "source": [
    "DATA_FILE = \"cleaned/train_data/factual_board_answering_1k.jsonl\"    # Change to your desired file to view\n",
    "df = pd.read_json(DATA_FILE, lines=True)\n",
    "print(len(df))"
   ]
  },
  {
   "cell_type": "code",
   "execution_count": 12,
   "id": "065548b2",
   "metadata": {},
   "outputs": [
    {
     "name": "stdout",
     "output_type": "stream",
     "text": [
      "system: chess_generic.txt\n",
      "\n",
      "user: Here is a board in a game you're currently playing:\n",
      "8| . . . . . r k . \n",
      "7| p . . . . p p p \n",
      "6| . . . . p . b . \n",
      "5| . . . . . . . . \n",
      "4| . n N . . B Q . \n",
      "3| . P . . P . P . \n",
      "2| P . q R . . B P \n",
      "1| . . . . . . K . \n",
      "#  _ _ _ _ _ _ _ _ \n",
      "#  A B C D E F G H \n",
      "\n",
      "- It is Black’s turn to move.\n",
      "- No castling rights available.\n",
      "- No en passant target square.\n",
      "- Halfmove clock: 4\n",
      "- Fullmove number: 21\n",
      "\n",
      "Answer the following - if multiple questions, include a space between each answer:\n",
      "Can your knight take their knight {'Yes', 'No'}?\n",
      "My piece on __ could take the opponent's rook on d2 (answer with square of only piece that makes this statement true -- e.g., 'e4').\n",
      "Is the white king in check {'Yes', 'No'}?\n",
      "My piece on __ could take the opponent's pawn on b3 (answer with square of only piece that makes this statement true -- e.g., 'e4').\n",
      "What is the material advantage for white (The following are values for each piece: Pawn=100; Knight=320; Bishop=330; Rook=500; Queen=900; King=0. You should respond with just an integer in the format '#,##0' or '-#,##0'.)?\n",
      "Can you legally play f8f1 {'Yes', 'No'}?\n",
      "\n",
      "assistant: No c2 No c2 330 No\n",
      "\n"
     ]
    }
   ],
   "source": [
    "# Randomly sample a row from the df\n",
    "row = df.sample(n=1).iloc[0]\n",
    "\n",
    "for role, output in row['chat']:\n",
    "    print(f\"{role}: {output}\\n\")"
   ]
  }
 ],
 "metadata": {
  "kernelspec": {
   "display_name": ".venv",
   "language": "python",
   "name": "python3"
  },
  "language_info": {
   "codemirror_mode": {
    "name": "ipython",
    "version": 3
   },
   "file_extension": ".py",
   "mimetype": "text/x-python",
   "name": "python",
   "nbconvert_exporter": "python",
   "pygments_lexer": "ipython3",
   "version": "3.11.13"
  }
 },
 "nbformat": 4,
 "nbformat_minor": 5
}
